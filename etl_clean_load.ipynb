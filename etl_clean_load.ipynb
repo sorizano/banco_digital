{
 "cells": [
  {
   "cell_type": "code",
   "execution_count": 7,
   "id": "c266a728",
   "metadata": {},
   "outputs": [
    {
     "name": "stdout",
     "output_type": "stream",
     "text": [
      "Datos limpios guardados en data\\clean.pkl — filas: 0\n"
     ]
    }
   ],
   "source": [
    "import os\n",
    "import re\n",
    "from datetime import datetime\n",
    "import pandas as pd\n",
    "import numpy as np\n",
    "\n",
    "DATA_DIR = \"data\"\n",
    "RAW_PATH = os.path.join(DATA_DIR, \"raw.csv\")\n",
    "CLEAN_PATH = os.path.join(DATA_DIR, \"clean.pkl\")\n",
    "\n",
    "os.makedirs(DATA_DIR, exist_ok=True)\n",
    "\n",
    "if not os.path.exists(RAW_PATH):\n",
    "    raise FileNotFoundError(f\"No se encontró {RAW_PATH}. Ejecuta primero generate_synthetic.py\")\n",
    "\n",
    "# 1) Cargar crudo\n",
    "df = pd.read_csv(RAW_PATH, dtype=str).replace({\"nan\": None})\n",
    "\n",
    "# 2) Normalizaciones básicas\n",
    "df.columns = [c.strip().lower() for c in df.columns]\n",
    "df[\"name\"] = df[\"name\"].astype(str).str.strip()\n",
    "df[\"email\"] = df[\"email\"].astype(str).str.strip().str.lower()\n",
    "df[\"country\"] = df[\"country\"].astype(str).str.strip().str.upper().replace({\"NONE\": np.nan, \"NAN\": np.nan, \"\": np.nan})\n",
    "\n",
    "# 3) user_id a int, cuando no se pueda -> NaN\n",
    "df[\"user_id\"] = pd.to_numeric(df[\"user_id\"], errors=\"coerce\")\n",
    "\n",
    "# 4) amount a float (removiendo símbolos y vacíos)\n",
    "def parse_amount(x):\n",
    "    if pd.isna(x):\n",
    "        return np.nan\n",
    "    s = str(x)\n",
    "    s = re.sub(r\"[^0-9.,-]\", \"\", s)\n",
    "    s = s.replace(\",\", \".\")\n",
    "    try:\n",
    "        return float(s)\n",
    "    except ValueError:\n",
    "        return np.nan\n",
    "df[\"amount\"] = df[\"amount\"].apply(parse_amount)\n",
    "\n",
    "# 5) fechas a datetime (múltiples formatos)\n",
    "def parse_date(x):\n",
    "    for fmt in (\"%Y-%m-%d\", \"%d-%m-%Y\", \"%d/%m/%Y\"):\n",
    "        try:\n",
    "            return datetime.strptime(str(x), fmt)\n",
    "        except Exception:\n",
    "            continue\n",
    "    return pd.NaT\n",
    "df[\"created_at\"] = df[\"created_at\"].apply(parse_date)\n",
    "\n",
    "# 6) validar email simple\n",
    "email_re = re.compile(r\"^[A-Za-z0-9._%+-]+@[A-Za-z0-9.-]+\\\\.[A-Za-z]{2,}$\")\n",
    "df[\"email_valid\"] = df[\"email\"].apply(lambda e: bool(email_re.match(str(e))) if pd.notna(e) else False)\n",
    "\n",
    "# 7) limpiar países a catálogo simple y NaN si no conocido\n",
    "valid_countries = {\"PE\", \"MX\", \"CO\", \"AR\"}\n",
    "df[\"country\"] = df[\"country\"].apply(lambda c: c if c in valid_countries else np.nan)\n",
    "\n",
    "# 8) drop duplicados exactos por (user_id, email, created_at)\n",
    "df = df.drop_duplicates(subset=[\"user_id\", \"email\", \"created_at\"], keep=\"first\")\n",
    "\n",
    "# 9) reglas de calidad mínimas\n",
    "df = df[(df[\"user_id\"].notna()) & (df[\"email_valid\"]) & (df[\"created_at\"].notna())]\n",
    "\n",
    "# 10) guardar como PKL\n",
    "df.to_pickle(CLEAN_PATH, protocol=4)\n",
    "\n",
    "print(f\"Datos limpios guardados en {CLEAN_PATH} — filas: {len(df)}\")"
   ]
  }
 ],
 "metadata": {
  "kernelspec": {
   "display_name": "venv_banco_digital",
   "language": "python",
   "name": "python3"
  },
  "language_info": {
   "codemirror_mode": {
    "name": "ipython",
    "version": 3
   },
   "file_extension": ".py",
   "mimetype": "text/x-python",
   "name": "python",
   "nbconvert_exporter": "python",
   "pygments_lexer": "ipython3",
   "version": "3.13.1"
  }
 },
 "nbformat": 4,
 "nbformat_minor": 5
}
